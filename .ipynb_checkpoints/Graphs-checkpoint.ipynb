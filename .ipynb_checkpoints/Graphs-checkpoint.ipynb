{
 "cells": [
  {
   "cell_type": "code",
   "execution_count": 4,
   "metadata": {},
   "outputs": [],
   "source": [
    "from heapq import heappush, heappop, heapify  \n",
    "from math import radians, cos, sin, asin, sqrt \n",
    "\n",
    "class MinHeap: \n",
    "      \n",
    "    # Constructor to initialize a heap \n",
    "    def __init__(self): \n",
    "        self.heap = []  \n",
    "  \n",
    "    def parent(self, i): \n",
    "        return (i-1)//2\n",
    "      \n",
    "    # Inserts a new key 'k' \n",
    "    def insertKey(self, k): \n",
    "        heappush(self.heap, k)            \n",
    "  \n",
    "    # Decrease value of key at index 'i' to new_val \n",
    "    # It is assumed that new_val is smaller than heap[i] \n",
    "    def decreaseKey(self, i, new_val): \n",
    "        self.heap[i][0] = new_val\n",
    "        #print(self.heap[self.parent(i)][0])\n",
    "        while(i != 0 and self.heap[self.parent(i)][0] > self.heap[i][0]): \n",
    "            # Swap heap[i] with heap[parent(i)] \n",
    "            self.heap[i][0] , self.heap[self.parent(i)][0] = self.heap[self.parent(i)][0], self.heap[i][0]\n",
    "            self.heap[i][1] , self.heap[self.parent(i)][1] = self.heap[self.parent(i)][1], self.heap[i][1]\n",
    "              \n",
    "    # Method to remove minium element from min heap \n",
    "    def extractMin(self): \n",
    "        return heappop(self.heap) \n",
    "  \n",
    "    # This functon deletes key at index i. It first reduces \n",
    "    # value to minus infinite and then calls extractMin() \n",
    "    def deleteKey(self, i): \n",
    "        self.decreaseKey(i, float(\"-inf\")) \n",
    "        self.extractMin() \n",
    "  \n",
    "    # Get the minimum element from the heap \n",
    "    def getMin(self): \n",
    "        return self.heap[0] "
   ]
  },
  {
   "cell_type": "code",
   "execution_count": 5,
   "metadata": {},
   "outputs": [],
   "source": [
    "from typing import Tuple, Optional\n",
    "\n",
    "def dijkstra(adj_list: dict, start_vertex: int, weights: Optional[dict] = None) -> Tuple[dict]:\n",
    "    counter = 0\n",
    "    curr_num = 0\n",
    "    dist = {}\n",
    "    preds = {}\n",
    "    heap = MinHeap()\n",
    "    if weights == None:\n",
    "        weights = {}\n",
    "        no_weights = True\n",
    "    else:\n",
    "        no_weights = False\n",
    "    for key in adj_list.keys():\n",
    "        if key == start_vertex:\n",
    "            dist[key] = 0\n",
    "            preds[key] = None\n",
    "        else:\n",
    "            dist[key] = float(\"inf\")\n",
    "            preds[key] = None\n",
    "        if no_weights:\n",
    "            weights[key] = 1\n",
    "        heap.insertKey([dist[key], key])\n",
    "    while len(heap.heap):\n",
    "        distance, vertex_id = heap.extractMin()\n",
    "        if distance > dist[vertex_id]:\n",
    "            continue\n",
    "        neighs = adj_list[vertex_id]\n",
    "        for neigh in neighs.keys():\n",
    "            edge_dist = adj_list[vertex_id][neigh][0]['length'] * weights[neigh]\n",
    "            if edge_dist + distance < dist[neigh]:\n",
    "                dist[neigh] = edge_dist + distance\n",
    "                preds[neigh] = vertex_id\n",
    "                heap.insertKey([edge_dist + distance, neigh])\n",
    "    return (dist, preds)\n",
    "        \n",
    "        \n",
    "    \n",
    "        \n",
    "    "
   ]
  },
  {
   "cell_type": "code",
   "execution_count": 6,
   "metadata": {},
   "outputs": [],
   "source": [
    "def nearest_list_for_list(adj_list: dict, list1: list, list2: list, weights: Optional[dict] = None) -> dict:\n",
    "    nearest = {}\n",
    "    for obj in list1:\n",
    "        distances, _ = dijkstra(adj_list, obj, weights)\n",
    "        min_ = float('inf')\n",
    "        min_id = -1\n",
    "        for obj2 in list2:\n",
    "            if distances[obj2] < min_:\n",
    "                min_id = obj2\n",
    "                min_ = distances[obj2]\n",
    "        nearest[obj] = (min_, min_id)\n",
    "    return nearest\n",
    "\n",
    "\n",
    "def nearest_fwd_bwd_list_for_list(adj_list: dict, list1: list, list2: list, weights: Optional[dict] = None) -> dict:\n",
    "    nearest = {}\n",
    "    distances_fwd = {}\n",
    "    distances_bwd = {}\n",
    "    for obj in list1:\n",
    "        distances_fwd[obj], _ = dijkstra(adj_list, obj, weights)\n",
    "    for obj in list2:\n",
    "        distances_bwd[obj], _ = dijkstra(adj_list, obj, weights)\n",
    "\n",
    "    for obj in list1:\n",
    "        min_ = float(\"inf\")\n",
    "        min_id = -1\n",
    "        for obj2 in list2:\n",
    "            if distances_fwd[obj][obj2] + distances_bwd[obj2][obj] < min_:\n",
    "                min_ = distances_fwd[obj][obj2] + distances_bwd[obj2][obj]\n",
    "                min_id = obj2\n",
    "        nearest[obj] = (min_, min_id)\n",
    "    return nearest\n",
    "\n",
    "def nearest_bwd_list_for_list(adj_list: dict, list1: list, list2: list, weights: Optional[dict] = None) -> dict:\n",
    "    nearest = {}\n",
    "    distances_bwd = {}\n",
    "    for obj in list2:\n",
    "        distances_bwd[obj], _ = dijkstra(adj_list, obj, weights)\n",
    "\n",
    "    for obj in list1:\n",
    "        min_ = float(\"inf\")\n",
    "        min_id = -1\n",
    "        for obj2 in list2:\n",
    "            if distances_bwd[obj2][obj] < min_:\n",
    "                min_ = distances_bwd[obj2][obj]\n",
    "                min_id = obj2\n",
    "        nearest[obj] = (min_, min_id)\n",
    "    return nearest\n",
    "\n",
    "def distances_fwd(adj_list: dict, list1: list, list2: list, weights: Optional[dict] = None) -> Tuple[dict]:\n",
    "    distances = {}\n",
    "    preds = {}\n",
    "    for obj in list1:\n",
    "        distances[obj], preds[obj] = dijkstra(adj_list, obj, weights)\n",
    "    return (distances, preds)\n",
    "\n",
    "def distances_bwd(adj_list: dict, list1: list, list2: list, weights: Optional[dict] = None) -> Tuple[dict]:\n",
    "    distances = {}\n",
    "    preds = {}\n",
    "    for obj2 in list2:\n",
    "        dist, pred = dijkstra(adj_list, obj2, weights)\n",
    "        for obj in list1:\n",
    "            if obj not in distances:\n",
    "                distances[obj], preds[obj] = {obj2: dist[obj]}, pred\n",
    "            else:\n",
    "                distances[obj].update({obj2: dist[obj]})\n",
    "    return (distances, preds) \n",
    "\n",
    "def distances_fwd_bwd(adj_list: dict, list1: list, list2: list, weights: Optional[dict] = None) -> Tuple[dict]:\n",
    "    distances = {}\n",
    "    distances_fwd = {}\n",
    "    distances_bwd = {}\n",
    "    preds_fwd = {}\n",
    "    preds_bwd = {}\n",
    "    preds = {}\n",
    "    for obj in list1:\n",
    "        distances_fwd[obj], preds_fwd[obj] = dijkstra(adj_list, obj, weights)\n",
    "    for obj in list2:\n",
    "        distances_bwd[obj], preds_bwd[obj] = dijkstra(adj_list, obj, weights)\n",
    "    \n",
    "    for obj in list1:\n",
    "        for obj2 in list2:\n",
    "            if obj not in distances:\n",
    "                distances[obj], preds[obj] = {obj2: distances_fwd[obj][obj2] + distances_bwd[obj2][obj]}, {'fwd': preds_fwd[obj],\n",
    "                                                                                                           'bwd': preds_bwd[obj2]}\n",
    "            else:\n",
    "                distances[obj].update({obj2: distances_fwd[obj][obj2] + distances_bwd[obj2][obj]})\n",
    "    return (distances, preds)"
   ]
  },
  {
   "cell_type": "code",
   "execution_count": 7,
   "metadata": {},
   "outputs": [
    {
     "data": {
      "text/plain": [
       "({1: {1: 0, 2: 5}}, {1: {1: None, 2: 1}})"
      ]
     },
     "execution_count": 7,
     "metadata": {},
     "output_type": "execute_result"
    }
   ],
   "source": [
    "adj_list = {1:{2:{0: {'length': 5}}}, 2:{1:{0: {'length': 3}}}}\n",
    "distances_fwd(adj_list, [1], [2])"
   ]
  },
  {
   "cell_type": "code",
   "execution_count": 8,
   "metadata": {},
   "outputs": [],
   "source": [
    "import xml.etree.ElementTree as ET\n",
    "root = ET.parse('./Ekb.osm').getroot()\n",
    "nodes = root.findall('./node')\n",
    "ways = root.findall('./way')"
   ]
  },
  {
   "cell_type": "code",
   "execution_count": 290,
   "metadata": {},
   "outputs": [],
   "source": [
    "import networkx as nx\n",
    "import osmnx as ox\n",
    "from functools import partial\n",
    "import xml.etree.ElementTree as ET\n",
    "import random\n",
    "import math\n",
    "import numpy as np\n",
    "import matplotlib.pyplot as plt\n",
    "\n",
    "class MetricsCalculator():\n",
    "    \n",
    "    def __init__(self, path_to_osm: str, objects_list: list, inf_objects_list: list) -> None:\n",
    "        self.graph = ox.core.graph_from_file(path_to_osm, simplify=False, retain_all=True)\n",
    "        self.objs = objects_list\n",
    "        self.inf_objs = inf_objects_list\n",
    "        self.root = ET.parse(path_to_osm).getroot()\n",
    "        self.weights = {}\n",
    "        self.nodes = list(self.graph.nodes.keys())\n",
    "        for obj in self.inf_objs:\n",
    "            self.weights[obj] = random.random() + 1\n",
    "        for obj in self.graph.adj.keys():\n",
    "            if obj not in self.weights:\n",
    "                self.weights[obj] = 1\n",
    "        \n",
    "        self.func_dict_nearest = {\n",
    "                                  \"fwd_node\": partial(nearest_list_for_list, self.graph.adj, self.objs, self.inf_objs, self.weights),\n",
    "                                  \"fwd_inf\": partial(nearest_list_for_list, self.graph.adj, self.inf_objs, self.objs, self.weights),\n",
    "                                  \"fwd_bwd_node\": partial(nearest_fwd_bwd_list_for_list, self.graph.adj, self.objs, self.inf_objs, self.weights),\n",
    "                                  \"fwd_bwd_inf\": partial(nearest_fwd_bwd_list_for_list, self.graph.adj, self.inf_objs, self.objs, self.weights),\n",
    "                                  \"bwd_node\": partial(nearest_bwd_list_for_list, self.graph.adj,  self.objs, self.inf_objs, self.weights),\n",
    "                                  \"bwd_inf\": partial(nearest_fwd_bwd_list_for_list, self.graph.adj, self.inf_objs, self.objs, self.weights)\n",
    "                                 }\n",
    "        self.func_dict_distances = {\n",
    "                                    \"fwd_node\": partial(distances_fwd, self.graph.adj, self.objs, self.inf_objs, self.weights),\n",
    "                                    \"fwd_inf\": partial(distances_fwd, self.graph.adj, self.inf_objs, self.objs, self.weights),\n",
    "                                    \"bwd_node\": partial(distances_bwd, self.graph.adj, self.objs, self.inf_objs, self.weights),\n",
    "                                    \"bwd_inf\": partial(distances_bwd, self.graph.adj, self.inf_objs, self.objs, self.weights),\n",
    "                                    \"fwd_bwd_node\": partial(distances_fwd_bwd, self.graph.adj, self.objs, self.inf_objs, self.weights),\n",
    "                                    \"fwd_bwd_inf\": partial(distances_fwd_bwd, self.graph.adj, self.inf_objs, self.objs, self.weights)\n",
    "                                    }\n",
    "            \n",
    "    def nearest(self, mode: str, start: str) -> dict:\n",
    "        return self.func_dict_nearest[mode + \"_\" + start]()\n",
    "    \n",
    "    \n",
    "    def closer_than_x(self, distance: int, mode: str, start: str) -> dict:\n",
    "        closer_than_x = {}\n",
    "        distances, _ = self.func_dict_distances[mode + \"_\" + start]()\n",
    "        if start == \"node\":\n",
    "            tmp = {'from': self.objs,\n",
    "                   'to': self.inf_objs}\n",
    "        elif start == \"inf\":\n",
    "            tmp = {'from': self.inf_objs,\n",
    "                   'to': self.objs}\n",
    "            \n",
    "        for obj in tmp['from']:\n",
    "            for obj2 in tmp['to']:\n",
    "                if distances[obj][obj2] <= distance * 1000:\n",
    "                    if obj not in closer_than_x:\n",
    "                        closer_than_x[obj] = [obj2]\n",
    "                    else:\n",
    "                        closer_than_x[obj].append(obj2)\n",
    "\n",
    "        return closer_than_x\n",
    "    \n",
    "    def closest_inf_in_summary(self, mode: str, start: str) -> tuple:\n",
    "        distances, _ = self.func_dict_distances[\"fwd_inf\"]()\n",
    "        min_ = float(\"inf\")\n",
    "        min_id = -1\n",
    "        for obj in self.inf_objs:\n",
    "            dist = 0\n",
    "            for obj2 in self.objs:\n",
    "                dist += distances[obj][obj2]\n",
    "            if dist < min_:\n",
    "                min_ = dist\n",
    "                min_id = obj\n",
    "        return (min_, min_id)\n",
    "    \n",
    "    def min_furthest_for_inf(self, mode: str) -> tuple:\n",
    "        distances, _ = self.func_dict_distances[mode + \"_\" + \"inf\"]()\n",
    "        min_ = float(\"inf\")\n",
    "        min_id = -1\n",
    "        for obj in self.inf_objs:\n",
    "            if min_ > max([(distances[obj][obj2], obj) for obj2 in self.objs])[0]:\n",
    "                min_, min_id = max([(distances[obj][obj2], obj) for obj2 in self.objs])\n",
    "        return (min_, min_id)\n",
    "    \n",
    "    def min_weight_tree(self) -> tuple:\n",
    "        distances, preds = self.func_dict_distances['fwd_inf']()\n",
    "        min_ = float(\"inf\")\n",
    "        min_id = -1\n",
    "        for obj in self.inf_objs:\n",
    "            edges = set()\n",
    "            sum_ = 0\n",
    "            for obj2 in self.objs:\n",
    "                pred = preds[obj]\n",
    "                curr = obj2\n",
    "                while curr != obj:\n",
    "                    if (curr, pred[curr]) not in edges:\n",
    "                        edges.add((curr, pred[curr]))\n",
    "                        sum_ += (distances[obj][curr] - distances[obj][pred[curr]])\n",
    "                    curr = pred[curr]\n",
    "            if sum_ < min_:\n",
    "                min_ = sum_\n",
    "                min_id = obj\n",
    "        for obj in self.objs:\n",
    "            print(distances[min_id][obj])\n",
    "        return (min_, min_id)\n",
    "            \n",
    "        \n",
    "    def for_random_inf_obj(self, objs, inf_obj, skip_inf_dists=False):\n",
    "        distances, preds = distances_fwd(self.graph.adj, [inf_obj], objs, self.weights)\n",
    "        edges = set()\n",
    "        sum_ = 0\n",
    "        for obj in objs:\n",
    "            if distances[inf_obj][obj] == float('inf'):\n",
    "                if skip_inf_dists:\n",
    "                    return 'no tree'\n",
    "                else:\n",
    "                    print('no way to ' + str(obj))\n",
    "                    continue\n",
    "            pred = preds[inf_obj]\n",
    "            curr = obj\n",
    "            while curr != inf_obj:\n",
    "                if (curr, pred[curr]) not in edges:\n",
    "                    edges.add((curr, pred[curr]))\n",
    "                    sum_ += (distances[inf_obj][curr] - distances[inf_obj][pred[curr]])\n",
    "                curr = pred[curr]\n",
    "        return sum_\n",
    "\n",
    "    \n",
    "    def objs_into_clusters(self, objs, k):\n",
    "        if k > len(objs):\n",
    "            return\n",
    "        clusters = []\n",
    "        dists_dict = {}\n",
    "        \n",
    "        for i in range(len(objs)):\n",
    "            clusters.append([i])\n",
    "            dists_dict[i] = {}\n",
    "            \n",
    "        for i in range(len(objs)):\n",
    "            phi1 = self.graph.nodes[objs[i]]['y']\n",
    "            l1 = self.graph.nodes[objs[i]]['x']\n",
    "            for j in range(i + 1, len(objs)):\n",
    "                phi2 = self.graph.nodes[objs[j]]['y']\n",
    "                l2 = self.graph.nodes[objs[j]]['x']\n",
    "                cos = math.sin(phi1) * math.sin(phi2) + math.cos(phi1) * math.cos(phi2) * math.cos(l1 - l2)\n",
    "                dist = math.acos(cos) * 6371\n",
    "                dists_dict[i][j] = dists_dict[j][i] = dist\n",
    "        history = [clusters]\n",
    "        \n",
    "        while len(clusters) > k:\n",
    "            min_ = float('inf')\n",
    "            min_start = -1\n",
    "            min_end = -1\n",
    "            for i in range(len(clusters)):\n",
    "                for j in range(i + 1, len(clusters)):\n",
    "                    max_ = -1\n",
    "                    max_start = -1\n",
    "                    max_end = -1\n",
    "                    for ind1 in clusters[i]:\n",
    "                        for ind2 in clusters[j]:\n",
    "                            if dists_dict[ind1][ind2] != float('inf') and dists_dict[ind1][ind2] > max_:\n",
    "                                max_ = dists_dict[ind1][ind2]\n",
    "                                max_start = i\n",
    "                                max_end = j\n",
    "                    if max_ < min_:\n",
    "                        min_ = max_\n",
    "                        min_start = max_start\n",
    "                        min_end = max_end\n",
    "            new_clusters = []\n",
    "            for i in range(len(clusters)):\n",
    "                if i == min_start:\n",
    "                    new_clusters.append(clusters[i] + clusters[min_end])\n",
    "                    continue\n",
    "                if i == min_end:\n",
    "                    continue\n",
    "                new_clusters.append(clusters[i])\n",
    "            clusters = new_clusters\n",
    "            history.append(clusters)\n",
    "#             print(clusters)\n",
    "        \n",
    "        return (clusters, history)\n",
    "    \n",
    "    \n",
    "    def dendrogram(self, objs):\n",
    "        clusters, history = self.objs_into_clusters(objs, 1)\n",
    "        fig, ax = plt.subplots()\n",
    "        dict_ = {}\n",
    "        for i in range(len(clusters[0])):\n",
    "            dict_[clusters[0][i]] = i\n",
    "        for i in range(1, len(history)):\n",
    "            for key in dict_:\n",
    "                ax.plot([dict_[key], dict_[key]], [i - 1, i], 'b')\n",
    "            for j in range(len(history[i])):\n",
    "                if len(history[i][j]) != len(history[i - 1][j]):\n",
    "                    x1 = dict_[history[i][j][0]]\n",
    "                    x2 = dict_[history[i][j][len(history[i][j]) - 1]]\n",
    "                    ax.plot([x1, x2], [i, i], 'b')\n",
    "                    new_ind = (x1 + x2) / 2\n",
    "                    for elem in history[i][j]:\n",
    "                        dict_[elem] = new_ind\n",
    "                    break\n",
    "        plt.show()\n",
    "        \n",
    "    \n",
    "    def work_with_centroids(self, objs, clusters, inf_obj):\n",
    "        obj_centroids = []\n",
    "        centroid_trees = []\n",
    "        for cluster in clusters:\n",
    "            center_y = np.sum([self.graph.nodes[objs[i]]['y'] for i in cluster]) / len(cluster)\n",
    "            center_x = np.sum([self.graph.nodes[objs[i]]['x'] for i in cluster]) / len(cluster)\n",
    "            \n",
    "            min_dist = float('inf')\n",
    "            centr_obj_id = -1\n",
    "            for id_ in self.nodes:\n",
    "                y = self.graph.nodes[id_]['y']\n",
    "                x = self.graph.nodes[id_]['x']\n",
    "                cos = math.sin(y) * math.sin(center_y) + math.cos(y) * math.cos(center_y) * math.cos(x - center_x)\n",
    "                dist = math.acos(cos) * 6371\n",
    "                if dist < min_dist:\n",
    "                    min_dist = dist\n",
    "                    centr_obj_id = id_\n",
    "            obj_centroids.append(centr_obj_id)\n",
    "            \n",
    "            cluster_objs = [objs[i] for i in cluster]\n",
    "            centroid_trees.append( self.for_random_inf_obj(cluster_objs, centr_obj_id) )\n",
    "                \n",
    "        tree_weight = self.for_random_inf_obj(obj_centroids, inf_obj)\n",
    "        print(tree_weight)\n",
    "        \n",
    "        print(centroid_trees)\n",
    "        \n",
    "        \n",
    "        "
   ]
  },
  {
   "cell_type": "code",
   "execution_count": 291,
   "metadata": {},
   "outputs": [],
   "source": [
    "m = MetricsCalculator('./Ekb.osm', [458889254, 176677232, 1130816321], [647048670, 360178196, 5093647004, 5093647006, 419751370])"
   ]
  },
  {
   "cell_type": "code",
   "execution_count": 11,
   "metadata": {},
   "outputs": [
    {
     "data": {
      "text/plain": [
       "AdjacencyView({1037480168: {0: {'osmid': 17037375, 'lanes': '2', 'name': 'Проезжая улица', 'highway': 'primary', 'maxspeed': '60', 'oneway': False, 'length': 47.014}}, 1037480174: {0: {'osmid': 38715108, 'highway': 'residential', 'oneway': False, 'length': 11.149}}, 176677187: {0: {'osmid': 141915725, 'lanes': '2', 'name': 'Проезжая улица', 'highway': 'primary', 'maxspeed': '60', 'oneway': False, 'length': 20.323}}})"
      ]
     },
     "execution_count": 11,
     "metadata": {},
     "output_type": "execute_result"
    }
   ],
   "source": [
    "m.graph.adj[458889254]"
   ]
  },
  {
   "cell_type": "code",
   "execution_count": 10,
   "metadata": {},
   "outputs": [
    {
     "name": "stdout",
     "output_type": "stream",
     "text": [
      "7278.957000000001\n",
      "11583.120000000003\n",
      "13148.554999999993\n",
      "(24731.675, 360178196)\n",
      "Wall time: 2.18 s\n"
     ]
    }
   ],
   "source": [
    "%%time\n",
    "print(m.min_weight_tree())\n",
    "#a = dijkstra(graph.adj, 458889254)\n",
    "#for key, value in a.items():\n",
    "#    if value <= 5000:\n",
    "#        print(key)"
   ]
  },
  {
   "cell_type": "code",
   "execution_count": 11,
   "metadata": {},
   "outputs": [
    {
     "data": {
      "text/plain": [
       "33229"
      ]
     },
     "execution_count": 11,
     "metadata": {},
     "output_type": "execute_result"
    }
   ],
   "source": [
    "len(m.graph.adj)"
   ]
  },
  {
   "cell_type": "code",
   "execution_count": 300,
   "metadata": {},
   "outputs": [
    {
     "name": "stdout",
     "output_type": "stream",
     "text": [
      "no way to 4113759137\n",
      "no way to 4393035104\n"
     ]
    },
    {
     "data": {
      "text/plain": [
       "142522.60099999982"
      ]
     },
     "execution_count": 300,
     "metadata": {},
     "output_type": "execute_result"
    }
   ],
   "source": [
    "n = 20    # кол-во домов \n",
    "objs = []\n",
    "objs_set = set()\n",
    "for i in range(n):\n",
    "    id_ = m.nodes[random.randint(0, len(m.nodes) - 1)]\n",
    "    if id_ not in objs_set:\n",
    "        objs.append(id_)\n",
    "        objs_set.add(id_)\n",
    "inf_obj = -1\n",
    "while inf_obj == -1:\n",
    "    id_ = m.nodes[random.randint(0, len(m.nodes) - 1)]\n",
    "    if id_ not in objs_set:\n",
    "        inf_obj = id_\n",
    "        \n",
    "m.for_random_inf_obj(objs, inf_obj)"
   ]
  },
  {
   "cell_type": "code",
   "execution_count": 301,
   "metadata": {},
   "outputs": [
    {
     "data": {
      "image/png": "[encoded data removed]",
      "text/plain": [
       "<Figure size 432x288 with 1 Axes>"
      ]
     },
     "metadata": {
      "needs_background": "light"
     },
     "output_type": "display_data"
    }
   ],
   "source": [
    "m.dendrogram(objs)"
   ]
  },
  {
   "cell_type": "code",
   "execution_count": 302,
   "metadata": {},
   "outputs": [
    {
     "name": "stdout",
     "output_type": "stream",
     "text": [
      "[[0, 14, 11, 2, 10, 3, 4, 9, 19, 13, 17, 16, 1, 12, 6, 8, 15], [5, 7, 18]]\n",
      "no way to 4393035104\n",
      "no way to 4113759137\n",
      "31648.805000000008\n",
      "[77847.1196806118, 33475.53200000001]\n"
     ]
    }
   ],
   "source": [
    "clusters, _ = m.objs_into_clusters(objs, 2)\n",
    "print(clusters)\n",
    "m.work_with_centroids(objs, clusters, inf_obj_id)"
   ]
  },
  {
   "cell_type": "code",
   "execution_count": 303,
   "metadata": {},
   "outputs": [
    {
     "name": "stdout",
     "output_type": "stream",
     "text": [
      "[[0, 14, 11, 2, 10, 3, 4, 9, 19, 13, 17, 16], [1, 12, 6, 8, 15], [5, 7, 18]]\n",
      "no way to 4393035104\n",
      "no way to 4113759137\n",
      "no way to 638218458\n",
      "28017.892\n",
      "[44236.408999999956, 66751.40729230404, 33475.53200000001]\n"
     ]
    }
   ],
   "source": [
    "clusters, _ = m.objs_into_clusters(objs, 3)\n",
    "print(clusters)\n",
    "m.work_with_centroids(objs, clusters, inf_obj_id)"
   ]
  },
  {
   "cell_type": "code",
   "execution_count": 304,
   "metadata": {},
   "outputs": [
    {
     "name": "stdout",
     "output_type": "stream",
     "text": [
      "[[0, 14, 11, 2, 10, 3], [1, 12], [4, 9, 19, 13, 17, 16], [5, 7, 18], [6, 8, 15]]\n",
      "no way to 4113759137\n",
      "no way to 4393035104\n",
      "77954.77312086566\n",
      "[22417.154999999995, 5257.018153547231, 15685.159, 33475.53200000001, 51477.562000000085]\n"
     ]
    }
   ],
   "source": [
    "clusters, _ = m.objs_into_clusters(objs, 5)\n",
    "print(clusters)\n",
    "m.work_with_centroids(objs, clusters, inf_obj_id)"
   ]
  },
  {
   "cell_type": "code",
   "execution_count": null,
   "metadata": {},
   "outputs": [],
   "source": []
  }
 ],
 "metadata": {
  "kernelspec": {
   "display_name": "Python 3",
   "language": "python",
   "name": "python3"
  },
  "language_info": {
   "codemirror_mode": {
    "name": "ipython",
    "version": 3
   },
   "file_extension": ".py",
   "mimetype": "text/x-python",
   "name": "python",
   "nbconvert_exporter": "python",
   "pygments_lexer": "ipython3",
   "version": "3.7.5"
  }
 },
 "nbformat": 4,
 "nbformat_minor": 2
}
